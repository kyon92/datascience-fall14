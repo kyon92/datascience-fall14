{
 "metadata": {
  "name": "",
  "signature": "sha256:3b64439b872061a47ddbd88c602febd1ca50ebb6664dbfed1567f337c341d9cb"
 },
 "nbformat": 3,
 "nbformat_minor": 0,
 "worksheets": [
  {
   "cells": [
    {
     "cell_type": "code",
     "collapsed": false,
     "input": [
      "# Render our plots inline\n",
      "%matplotlib inline\n",
      "\n",
      "# Import several libraries\n",
      "import matplotlib.pyplot as plt\n",
      "import numpy as np\n",
      "import pandas as pd"
     ],
     "language": "python",
     "metadata": {},
     "outputs": [],
     "prompt_number": 1
    },
    {
     "cell_type": "code",
     "collapsed": false,
     "input": [
      "data = pd.read_csv('precip.csv')"
     ],
     "language": "python",
     "metadata": {},
     "outputs": [],
     "prompt_number": 20
    },
    {
     "cell_type": "code",
     "collapsed": false,
     "input": [
      "data[:5]"
     ],
     "language": "python",
     "metadata": {},
     "outputs": [
      {
       "html": [
        "<div style=\"max-height:1000px;max-width:1500px;overflow:auto;\">\n",
        "<table border=\"1\" class=\"dataframe\">\n",
        "  <thead>\n",
        "    <tr style=\"text-align: right;\">\n",
        "      <th></th>\n",
        "      <th>Unnamed: 0</th>\n",
        "      <th>x</th>\n",
        "    </tr>\n",
        "  </thead>\n",
        "  <tbody>\n",
        "    <tr>\n",
        "      <th>0</th>\n",
        "      <td> 1</td>\n",
        "      <td> 67.0</td>\n",
        "    </tr>\n",
        "    <tr>\n",
        "      <th>1</th>\n",
        "      <td> 2</td>\n",
        "      <td> 54.7</td>\n",
        "    </tr>\n",
        "    <tr>\n",
        "      <th>2</th>\n",
        "      <td> 3</td>\n",
        "      <td>  7.0</td>\n",
        "    </tr>\n",
        "    <tr>\n",
        "      <th>3</th>\n",
        "      <td> 4</td>\n",
        "      <td> 48.5</td>\n",
        "    </tr>\n",
        "    <tr>\n",
        "      <th>4</th>\n",
        "      <td> 5</td>\n",
        "      <td> 14.0</td>\n",
        "    </tr>\n",
        "  </tbody>\n",
        "</table>\n",
        "<p>5 rows \u00d7 2 columns</p>\n",
        "</div>"
       ],
       "metadata": {},
       "output_type": "pyout",
       "prompt_number": 21,
       "text": [
        "   Unnamed: 0     x\n",
        "0           1  67.0\n",
        "1           2  54.7\n",
        "2           3   7.0\n",
        "3           4  48.5\n",
        "4           5  14.0\n",
        "\n",
        "[5 rows x 2 columns]"
       ]
      }
     ],
     "prompt_number": 21
    },
    {
     "cell_type": "code",
     "collapsed": false,
     "input": [
      "data.count"
     ],
     "language": "python",
     "metadata": {},
     "outputs": [
      {
       "metadata": {},
       "output_type": "pyout",
       "prompt_number": 31,
       "text": [
        "<bound method DataFrame.count of     Unnamed: 0     x\n",
        "0            1  67.0\n",
        "1            2  54.7\n",
        "2            3   7.0\n",
        "3            4  48.5\n",
        "4            5  14.0\n",
        "5            6  17.2\n",
        "6            7  20.7\n",
        "7            8  13.0\n",
        "8            9  43.4\n",
        "9           10  40.2\n",
        "10          11  38.9\n",
        "11          12  54.5\n",
        "12          13  59.8\n",
        "13          14  48.3\n",
        "14          15  22.9\n",
        "15          16  11.5\n",
        "16          17  34.4\n",
        "17          18  35.1\n",
        "18          19  38.7\n",
        "19          20  30.8\n",
        "20          21  30.6\n",
        "21          22  43.1\n",
        "22          23  56.8\n",
        "23          24  40.8\n",
        "24          25  41.8\n",
        "25          26  42.5\n",
        "26          27  31.0\n",
        "27          28  31.7\n",
        "28          29  30.2\n",
        "29          30  25.9\n",
        "30          31  49.2\n",
        "31          32  37.0\n",
        "32          33  35.9\n",
        "33          34  15.0\n",
        "34          35  30.2\n",
        "35          36   7.2\n",
        "36          37  36.2\n",
        "37          38  45.5\n",
        "38          39   7.8\n",
        "39          40  33.4\n",
        "40          41  36.1\n",
        "41          42  40.2\n",
        "42          43  42.7\n",
        "43          44  42.5\n",
        "44          45  16.2\n",
        "45          46  39.0\n",
        "46          47  35.0\n",
        "47          48  37.0\n",
        "48          49  31.4\n",
        "49          50  37.6\n",
        "50          51  39.9\n",
        "51          52  36.2\n",
        "52          53  42.8\n",
        "53          54  46.4\n",
        "54          55  24.7\n",
        "55          56  49.1\n",
        "56          57  46.0\n",
        "57          58  35.9\n",
        "58          59   7.8\n",
        "59          60  48.2\n",
        "           ...   ...\n",
        "\n",
        "[70 rows x 2 columns]>"
       ]
      }
     ],
     "prompt_number": 31
    },
    {
     "cell_type": "code",
     "collapsed": false,
     "input": [
      "len(data)"
     ],
     "language": "python",
     "metadata": {},
     "outputs": [
      {
       "metadata": {},
       "output_type": "pyout",
       "prompt_number": 26,
       "text": [
        "70"
       ]
      }
     ],
     "prompt_number": 26
    },
    {
     "cell_type": "code",
     "collapsed": false,
     "input": [
      "plt.plot(range(70),data['x'])\n",
      "plt.title('Annual Precipitation in US Cities')"
     ],
     "language": "python",
     "metadata": {},
     "outputs": [
      {
       "metadata": {},
       "output_type": "pyout",
       "prompt_number": 30,
       "text": [
        "<matplotlib.text.Text at 0x7f3eceeeadd0>"
       ]
      },
      {
       "metadata": {},
       "output_type": "display_data",
       "png": "[encoded data removed]",
       "text": [
        "<matplotlib.figure.Figure at 0x7f3ecf7fbd50>"
       ]
      }
     ],
     "prompt_number": 30
    },
    {
     "cell_type": "code",
     "collapsed": false,
     "input": [],
     "language": "python",
     "metadata": {},
     "outputs": []
    }
   ],
   "metadata": {}
  }
 ]
}
